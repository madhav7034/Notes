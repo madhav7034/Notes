{
  "nbformat": 4,
  "nbformat_minor": 0,
  "metadata": {
    "colab": {
      "provenance": [],
      "authorship_tag": "ABX9TyMt6fnzI0cD/6DHq5jgIQ8R",
      "include_colab_link": true
    },
    "kernelspec": {
      "name": "python3",
      "display_name": "Python 3"
    },
    "language_info": {
      "name": "python"
    }
  },
  "cells": [
    {
      "cell_type": "markdown",
      "metadata": {
        "id": "view-in-github",
        "colab_type": "text"
      },
      "source": [
        "<a href=\"https://colab.research.google.com/github/madhav7034/Notes/blob/main/Database.ipynb\" target=\"_parent\"><img src=\"https://colab.research.google.com/assets/colab-badge.svg\" alt=\"Open In Colab\"/></a>"
      ]
    },
    {
      "cell_type": "code",
      "execution_count": null,
      "metadata": {
        "id": "3FiOA_Bokvbz"
      },
      "outputs": [],
      "source": [
        "\"\"\"\n",
        "Databases\n",
        "improves business processes\n",
        "Keep track of customers\n",
        "Store personal data\n",
        "\n",
        "\n",
        "\n",
        "Types of database\n",
        "\n",
        "1. Relational database\n",
        "2. Object oriented\n",
        "3. Distributed\n",
        "4. Data warehouses\n",
        "5. NoSql database\n",
        "\n",
        "\n",
        "---> Relational database\n",
        "        Rows and columns\n",
        "Sql --> Access and manipulate data\n",
        "\n",
        "\n",
        "\n",
        "Importance of Sql\n",
        "\n",
        "Foundation of data management\n",
        "Data extraction\n",
        "Data manipulation\n",
        "Integration with data tools\n",
        "Handling large dataset\n",
        "Data Aggregation and Summarization\n",
        "Real time data processing\n",
        "\n",
        "Columns are called attributes or fields\n",
        "Rows records or tupils\n",
        "\n",
        "\n",
        "KEYS\n",
        "\n",
        "1. Primary Key\n",
        "2. Foreign Key\n",
        "3. Composite Key\n",
        "4. Unique Key\n",
        "\n",
        "\n",
        "DDL---> Data Definiton Language\n",
        "\n",
        "1. Create\n",
        "2. Alter\n",
        "3. Drop\n",
        "\n",
        "\"\"\"\n",
        "\n",
        "import sqlite3\n",
        "conn = sqlite3.connect('students.db')\n",
        "cursor = conn.cursor()"
      ]
    },
    {
      "cell_type": "code",
      "source": [
        "from typing import Text\n",
        "cursor.execute(\"\"\"CREATE TABLE IF NOT EXISTS students(\n",
        "    id INTEGER PRIMARY KEY AUTOINCREMENT,\n",
        "    name TEXT,\n",
        "    age INTEGER,\n",
        "    gender TEXT,\n",
        "    grade Text\n",
        "    )\n",
        "   \"\"\")"
      ],
      "metadata": {
        "colab": {
          "base_uri": "https://localhost:8080/"
        },
        "id": "nmpL9Twn7XPX",
        "outputId": "68221f17-3775-4e0a-e552-0740d54300ac"
      },
      "execution_count": null,
      "outputs": [
        {
          "output_type": "execute_result",
          "data": {
            "text/plain": [
              "<sqlite3.Cursor at 0x7d4fc039f340>"
            ]
          },
          "metadata": {},
          "execution_count": 138
        }
      ]
    },
    {
      "cell_type": "code",
      "source": [
        "cursor.execute(\"insert into students values(23,'A','20','Male','A')\")\n"
      ],
      "metadata": {
        "colab": {
          "base_uri": "https://localhost:8080/"
        },
        "id": "BIRVRZCN877-",
        "outputId": "d3ae7009-e262-4523-facf-4ab7f76834d3"
      },
      "execution_count": null,
      "outputs": [
        {
          "output_type": "execute_result",
          "data": {
            "text/plain": [
              "<sqlite3.Cursor at 0x7d4fc039f340>"
            ]
          },
          "metadata": {},
          "execution_count": 139
        }
      ]
    },
    {
      "cell_type": "code",
      "source": [
        "cursor.execute(\"insert into students values(24,'B','20','Female','A+')\")"
      ],
      "metadata": {
        "colab": {
          "base_uri": "https://localhost:8080/"
        },
        "id": "kDzU815Z92NW",
        "outputId": "ced9fa8f-bd80-4942-d683-bea3853a18b6"
      },
      "execution_count": null,
      "outputs": [
        {
          "output_type": "execute_result",
          "data": {
            "text/plain": [
              "<sqlite3.Cursor at 0x7d4fc039f340>"
            ]
          },
          "metadata": {},
          "execution_count": 140
        }
      ]
    },
    {
      "cell_type": "code",
      "source": [
        "cursor.execute(\"insert into students values(25,'C','19','Male','C')\")"
      ],
      "metadata": {
        "colab": {
          "base_uri": "https://localhost:8080/"
        },
        "id": "BLM9g93v-LAo",
        "outputId": "178e5728-e289-48da-8cac-b0659a88a028"
      },
      "execution_count": null,
      "outputs": [
        {
          "output_type": "execute_result",
          "data": {
            "text/plain": [
              "<sqlite3.Cursor at 0x7d4fc039f340>"
            ]
          },
          "metadata": {},
          "execution_count": 141
        }
      ]
    },
    {
      "cell_type": "code",
      "source": [
        "cursor.execute(\"insert into students values(26,'D','20','Female','B')\")"
      ],
      "metadata": {
        "colab": {
          "base_uri": "https://localhost:8080/"
        },
        "id": "6fKilSIi-PPo",
        "outputId": "2687502a-a56f-458c-8473-d6cacc8546ef"
      },
      "execution_count": null,
      "outputs": [
        {
          "output_type": "execute_result",
          "data": {
            "text/plain": [
              "<sqlite3.Cursor at 0x7d4fc039f340>"
            ]
          },
          "metadata": {},
          "execution_count": 142
        }
      ]
    },
    {
      "cell_type": "code",
      "source": [
        "cursor.execute(\"insert into students values(27,'E','18','Male','A+')\")"
      ],
      "metadata": {
        "colab": {
          "base_uri": "https://localhost:8080/"
        },
        "id": "bNNlWLs4-UR3",
        "outputId": "83796ca9-fabc-4c28-8a7f-f0504418dad7"
      },
      "execution_count": null,
      "outputs": [
        {
          "output_type": "execute_result",
          "data": {
            "text/plain": [
              "<sqlite3.Cursor at 0x7d4fc039f340>"
            ]
          },
          "metadata": {},
          "execution_count": 143
        }
      ]
    },
    {
      "cell_type": "code",
      "source": [
        "cursor.execute(\"insert into students values('F','20','Male','A')\")"
      ],
      "metadata": {
        "colab": {
          "base_uri": "https://localhost:8080/",
          "height": 146
        },
        "id": "iKWg8ZnD-YlC",
        "outputId": "55b75906-659d-433d-bf31-add83bc6c45a"
      },
      "execution_count": null,
      "outputs": [
        {
          "output_type": "error",
          "ename": "OperationalError",
          "evalue": "table students has 5 columns but 4 values were supplied",
          "traceback": [
            "\u001b[0;31m---------------------------------------------------------------------------\u001b[0m",
            "\u001b[0;31mOperationalError\u001b[0m                          Traceback (most recent call last)",
            "\u001b[0;32m/tmp/ipython-input-1077381684.py\u001b[0m in \u001b[0;36m<cell line: 0>\u001b[0;34m()\u001b[0m\n\u001b[0;32m----> 1\u001b[0;31m \u001b[0mcursor\u001b[0m\u001b[0;34m.\u001b[0m\u001b[0mexecute\u001b[0m\u001b[0;34m(\u001b[0m\u001b[0;34m\"insert into students values('F','20','Male','A')\"\u001b[0m\u001b[0;34m)\u001b[0m\u001b[0;34m\u001b[0m\u001b[0;34m\u001b[0m\u001b[0m\n\u001b[0m",
            "\u001b[0;31mOperationalError\u001b[0m: table students has 5 columns but 4 values were supplied"
          ]
        }
      ]
    },
    {
      "cell_type": "code",
      "source": [
        "conn.commit()"
      ],
      "metadata": {
        "id": "2VApWyy2CusO"
      },
      "execution_count": null,
      "outputs": []
    },
    {
      "cell_type": "code",
      "source": [
        "cursor.execute('select * from students')"
      ],
      "metadata": {
        "colab": {
          "base_uri": "https://localhost:8080/"
        },
        "id": "_uXPkmDD-3WN",
        "outputId": "74dcb6ce-b147-4f71-c89c-b6b8241c339c"
      },
      "execution_count": null,
      "outputs": [
        {
          "output_type": "execute_result",
          "data": {
            "text/plain": [
              "<sqlite3.Cursor at 0x7d4fc039f340>"
            ]
          },
          "metadata": {},
          "execution_count": 146
        }
      ]
    },
    {
      "cell_type": "code",
      "source": [
        "#print(cursor.fetchall())"
      ],
      "metadata": {
        "id": "JMEVsTGcCpYm"
      },
      "execution_count": null,
      "outputs": []
    },
    {
      "cell_type": "code",
      "source": [
        "rows = cursor.fetchall()"
      ],
      "metadata": {
        "id": "aZZhZKsoC7kQ"
      },
      "execution_count": null,
      "outputs": []
    },
    {
      "cell_type": "code",
      "source": [
        "for row in rows:\n",
        "  print('id:',row[0],'name:',row[1],'age:',row[2],'gender:',row[3],'grade',row[4])"
      ],
      "metadata": {
        "colab": {
          "base_uri": "https://localhost:8080/"
        },
        "id": "nrOGufoBDxof",
        "outputId": "b2caa23c-06b3-48dc-eea5-14c20927066b"
      },
      "execution_count": null,
      "outputs": [
        {
          "output_type": "stream",
          "name": "stdout",
          "text": [
            "id: 23 name: A age: 20 gender: Male grade A\n",
            "id: 24 name: B age: 20 gender: Female grade A+\n",
            "id: 25 name: C age: 19 gender: Male grade C\n",
            "id: 26 name: D age: 20 gender: Female grade B\n",
            "id: 27 name: E age: 18 gender: Male grade A+\n"
          ]
        }
      ]
    },
    {
      "cell_type": "code",
      "source": [
        "cursor.execute('select * from students where grade = \"A+\"')\n",
        "rows = cursor.fetchall()\n",
        "for row in rows:\n",
        "  print('id:',row[0],'name:',row[1],'age:',row[2],'gender:',row[3],'grade',row[4])"
      ],
      "metadata": {
        "colab": {
          "base_uri": "https://localhost:8080/"
        },
        "id": "c9hB1OSXEQrC",
        "outputId": "e4ae4ca3-fe26-4757-bd88-fd10a170372c"
      },
      "execution_count": null,
      "outputs": [
        {
          "output_type": "stream",
          "name": "stdout",
          "text": [
            "id: 24 name: B age: 20 gender: Female grade A+\n",
            "id: 27 name: E age: 18 gender: Male grade A+\n"
          ]
        }
      ]
    },
    {
      "cell_type": "code",
      "source": [
        "cursor.execute('select * from students order by age desc')\n",
        "rows = cursor.fetchall()\n",
        "for row in rows:\n",
        "  print('id:',row[0],'name:',row[1],'age:',row[2],'gender:',row[3],'grade',row[4])\n"
      ],
      "metadata": {
        "colab": {
          "base_uri": "https://localhost:8080/"
        },
        "id": "qOYfNkkTIrUj",
        "outputId": "2c1903ba-5c35-487c-8f4f-b08991fd5382"
      },
      "execution_count": null,
      "outputs": [
        {
          "output_type": "stream",
          "name": "stdout",
          "text": [
            "id: 23 name: A age: 20 gender: Male grade A\n",
            "id: 24 name: B age: 20 gender: Female grade A+\n",
            "id: 26 name: D age: 20 gender: Female grade B\n",
            "id: 25 name: C age: 19 gender: Male grade C\n",
            "id: 27 name: E age: 18 gender: Male grade A+\n"
          ]
        }
      ]
    },
    {
      "cell_type": "code",
      "source": [
        "cursor.execute(\"select count(*) from students where grade = 'A+'\")\n",
        "rows = cursor.fetchall()\n",
        "for row in rows:\n",
        "  print('grade',row[0])"
      ],
      "metadata": {
        "colab": {
          "base_uri": "https://localhost:8080/"
        },
        "id": "SdMFDzduI1Dn",
        "outputId": "02302700-3a72-4566-bd7c-06290443bf60"
      },
      "execution_count": null,
      "outputs": [
        {
          "output_type": "stream",
          "name": "stdout",
          "text": [
            "grade 2\n"
          ]
        }
      ]
    },
    {
      "cell_type": "code",
      "source": [
        "cursor.execute(\"select avg(age) from students\")\n",
        "rows = cursor.fetchall()\n",
        "for row in rows:\n",
        "  print('age:',row[0])"
      ],
      "metadata": {
        "colab": {
          "base_uri": "https://localhost:8080/"
        },
        "id": "JfTG5_VCI7Yu",
        "outputId": "e6cfcc98-c157-4972-940f-ebd0aa31859c"
      },
      "execution_count": null,
      "outputs": [
        {
          "output_type": "stream",
          "name": "stdout",
          "text": [
            "age: 19.4\n"
          ]
        }
      ]
    },
    {
      "cell_type": "code",
      "source": [
        "cursor.execute(\"select * from students order by age desc limit 3\")\n",
        "rows = cursor.fetchall()\n",
        "for row in rows:\n",
        "  print('id:',row[0],'name:',row[1],'age:',row[2],'gender:',row[3],'grade',row[4])"
      ],
      "metadata": {
        "colab": {
          "base_uri": "https://localhost:8080/"
        },
        "id": "q3VhMWbhJ7l-",
        "outputId": "3fc2152c-1871-4fd9-b3b5-adee0a14d49e"
      },
      "execution_count": null,
      "outputs": [
        {
          "output_type": "stream",
          "name": "stdout",
          "text": [
            "id: 23 name: A age: 20 gender: Male grade A\n",
            "id: 24 name: B age: 20 gender: Female grade A+\n",
            "id: 26 name: D age: 20 gender: Female grade B\n"
          ]
        }
      ]
    },
    {
      "cell_type": "code",
      "source": [
        "cursor.execute(\"select age, count(*) from students group by age\")\n",
        "rows = cursor.fetchall()\n",
        "for row in rows:\n",
        "  print('age:',row[0])"
      ],
      "metadata": {
        "colab": {
          "base_uri": "https://localhost:8080/"
        },
        "id": "dRUxaoGBKe6t",
        "outputId": "afb8dfd7-4d9f-49d7-8db4-d7cd9ff54a08"
      },
      "execution_count": null,
      "outputs": [
        {
          "output_type": "stream",
          "name": "stdout",
          "text": [
            "age: 18\n",
            "age: 19\n",
            "age: 20\n"
          ]
        }
      ]
    },
    {
      "cell_type": "code",
      "source": [
        "cursor.execute(\"alter table students add column mark integer\")\n"
      ],
      "metadata": {
        "colab": {
          "base_uri": "https://localhost:8080/"
        },
        "id": "V6tjlOgWLOU1",
        "outputId": "08d4374e-d09a-4574-89d8-1d80aa819ec5"
      },
      "execution_count": null,
      "outputs": [
        {
          "output_type": "execute_result",
          "data": {
            "text/plain": [
              "<sqlite3.Cursor at 0x7d4fc039f340>"
            ]
          },
          "metadata": {},
          "execution_count": 156
        }
      ]
    },
    {
      "cell_type": "code",
      "source": [
        "cursor.execute(\"update students set mark = 100 where id = 24\")\n",
        "cursor.execute(\"update students set mark = 100 where id = 27\")\n",
        "cursor.execute(\"update students set mark = 92 where id = 23\")\n",
        "cursor.execute(\"update students set mark = 80 where id = 26\")\n",
        "cursor.execute(\"update students set mark = 67 where id = 25\")\n"
      ],
      "metadata": {
        "colab": {
          "base_uri": "https://localhost:8080/"
        },
        "id": "R2AXkh01Lp6Y",
        "outputId": "d0178669-45fc-4982-a48e-14bf618dcae4"
      },
      "execution_count": null,
      "outputs": [
        {
          "output_type": "execute_result",
          "data": {
            "text/plain": [
              "<sqlite3.Cursor at 0x7d4fc039f340>"
            ]
          },
          "metadata": {},
          "execution_count": 157
        }
      ]
    },
    {
      "cell_type": "code",
      "source": [
        "cursor.execute('select * from students')\n",
        "rows = cursor.fetchall()\n",
        "for row in rows:\n",
        "  print('id:',row[0],'name:',row[1],'age:',row[2],'gender:',row[3],'grade',row[4],'mark',row[5])"
      ],
      "metadata": {
        "colab": {
          "base_uri": "https://localhost:8080/"
        },
        "id": "0sCDMisLOGxh",
        "outputId": "f2aa5526-ae2f-47df-83d2-a86953cca6b9"
      },
      "execution_count": null,
      "outputs": [
        {
          "output_type": "stream",
          "name": "stdout",
          "text": [
            "id: 23 name: A age: 20 gender: Male grade A mark 92\n",
            "id: 24 name: B age: 20 gender: Female grade A+ mark 100\n",
            "id: 25 name: C age: 19 gender: Male grade C mark 67\n",
            "id: 26 name: D age: 20 gender: Female grade B mark 80\n",
            "id: 27 name: E age: 18 gender: Male grade A+ mark 100\n"
          ]
        }
      ]
    },
    {
      "cell_type": "code",
      "source": [
        "cursor.execute(\"delete from students where id = 23\")"
      ],
      "metadata": {
        "colab": {
          "base_uri": "https://localhost:8080/"
        },
        "id": "gL-jbJAXOPuX",
        "outputId": "d744d5b6-70c8-48af-d503-ca2895187865"
      },
      "execution_count": null,
      "outputs": [
        {
          "output_type": "execute_result",
          "data": {
            "text/plain": [
              "<sqlite3.Cursor at 0x7d4fc039f340>"
            ]
          },
          "metadata": {},
          "execution_count": 159
        }
      ]
    },
    {
      "cell_type": "code",
      "source": [
        "cursor.execute('select * from students')\n",
        "rows = cursor.fetchall()\n",
        "for row in rows:\n",
        "  print('id:',row[0],'name:',row[1],'age:',row[2],'gender:',row[3],'grade',row[4],'mark',row[5])\n"
      ],
      "metadata": {
        "colab": {
          "base_uri": "https://localhost:8080/"
        },
        "id": "LuLUJoZ-QIrM",
        "outputId": "b03a291a-7041-4896-dda6-65faf42b3ae4"
      },
      "execution_count": null,
      "outputs": [
        {
          "output_type": "stream",
          "name": "stdout",
          "text": [
            "id: 24 name: B age: 20 gender: Female grade A+ mark 100\n",
            "id: 25 name: C age: 19 gender: Male grade C mark 67\n",
            "id: 26 name: D age: 20 gender: Female grade B mark 80\n",
            "id: 27 name: E age: 18 gender: Male grade A+ mark 100\n"
          ]
        }
      ]
    },
    {
      "cell_type": "code",
      "source": [
        "#Library\n",
        "\n",
        "\n",
        "\n",
        "import sqlite3\n",
        "conn = sqlite3.connect('lib.db')\n",
        "cursor = conn.cursor()\n",
        "\n"
      ],
      "metadata": {
        "id": "P97kiEyZQTWZ"
      },
      "execution_count": null,
      "outputs": []
    },
    {
      "cell_type": "code",
      "source": [
        "from typing import Text\n",
        "cursor.execute(\"\"\"CREATE TABLE IF NOT EXISTS lib(\n",
        "    bookid INTEGER PRIMARY KEY AUTOINCREMENT,\n",
        "    name TEXT,\n",
        "    author TEXT,\n",
        "    pdate DATE\n",
        "    )\n",
        "   \"\"\")"
      ],
      "metadata": {
        "colab": {
          "base_uri": "https://localhost:8080/"
        },
        "id": "VP79dDKaWJ0A",
        "outputId": "232d9638-1f6f-45ce-8371-e5fbd2b872c3"
      },
      "execution_count": null,
      "outputs": [
        {
          "output_type": "execute_result",
          "data": {
            "text/plain": [
              "<sqlite3.Cursor at 0x7d4fc03ff040>"
            ]
          },
          "metadata": {},
          "execution_count": 169
        }
      ]
    },
    {
      "cell_type": "code",
      "source": [
        "cursor.execute(\"insert into lib values(100,'Book A','Riyan','2021-08-21'),(101,'Book B','Farhan','2020-09-12'),(102,'Book C','Govind','2019-01-18')\")"
      ],
      "metadata": {
        "colab": {
          "base_uri": "https://localhost:8080/"
        },
        "id": "28gfuBq9XN8R",
        "outputId": "f86696ba-fca0-42c9-c0b2-c9d0940a8386"
      },
      "execution_count": null,
      "outputs": [
        {
          "output_type": "execute_result",
          "data": {
            "text/plain": [
              "<sqlite3.Cursor at 0x7d4fc03ff040>"
            ]
          },
          "metadata": {},
          "execution_count": 170
        }
      ]
    },
    {
      "cell_type": "code",
      "source": [
        "cursor.execute('select * from lib')\n",
        "rows = cursor.fetchall()\n",
        "for row in rows:\n",
        "  print('bookid:',row[0],'name:',row[1],'author:',row[2],'pdate',row[3])"
      ],
      "metadata": {
        "colab": {
          "base_uri": "https://localhost:8080/"
        },
        "id": "TP1XPHS3X0UI",
        "outputId": "0a79a70b-ba47-4482-c9d7-b561f409c30a"
      },
      "execution_count": null,
      "outputs": [
        {
          "output_type": "stream",
          "name": "stdout",
          "text": [
            "bookid: 100 name: Book A author: Riyan pdate 2021-08-21\n",
            "bookid: 101 name: Book B author: Farhan pdate 2020-09-12\n",
            "bookid: 102 name: Book C author: Govind pdate 2019-01-18\n"
          ]
        }
      ]
    },
    {
      "cell_type": "code",
      "source": [],
      "metadata": {
        "id": "5vbSC4qDYpzJ"
      },
      "execution_count": null,
      "outputs": []
    }
  ]
}