{
  "nbformat": 4,
  "nbformat_minor": 0,
  "metadata": {
    "colab": {
      "provenance": [],
      "gpuType": "T4",
      "authorship_tag": "ABX9TyMEkVDwmo1fXcOLxUJ6KLPW",
      "include_colab_link": true
    },
    "kernelspec": {
      "name": "python3",
      "display_name": "Python 3"
    },
    "language_info": {
      "name": "python"
    },
    "accelerator": "GPU"
  },
  "cells": [
    {
      "cell_type": "markdown",
      "metadata": {
        "id": "view-in-github",
        "colab_type": "text"
      },
      "source": [
        "<a href=\"https://colab.research.google.com/github/madhav7034/Notes/blob/main/Basics.ipynb\" target=\"_parent\"><img src=\"https://colab.research.google.com/assets/colab-badge.svg\" alt=\"Open In Colab\"/></a>"
      ]
    },
    {
      "cell_type": "markdown",
      "source": [
        "# ***Exploring python notebook***\n",
        "\n",
        "Here, we are exploring basic operations using Google Colab.\n"
      ],
      "metadata": {
        "id": "CzOBbNYSlA9I"
      }
    },
    {
      "cell_type": "code",
      "execution_count": null,
      "metadata": {
        "colab": {
          "base_uri": "https://localhost:8080/"
        },
        "id": "JIR8szljhIsH",
        "outputId": "8e68e181-9666-4a03-8f85-74ff093f9650"
      },
      "outputs": [
        {
          "output_type": "stream",
          "name": "stdout",
          "text": [
            "Hello nbmnWorld\n"
          ]
        }
      ],
      "source": [
        "print('Hello nbmnWorld')\n",
        "\n"
      ]
    },
    {
      "cell_type": "markdown",
      "source": [
        "##Python\n"
      ],
      "metadata": {
        "id": "F12UOg2xoBuG"
      }
    },
    {
      "cell_type": "code",
      "source": [
        "#some code"
      ],
      "metadata": {
        "id": "seIia52BkA8s"
      },
      "execution_count": null,
      "outputs": []
    },
    {
      "cell_type": "markdown",
      "source": [
        "###PY"
      ],
      "metadata": {
        "id": "5oZHivGVoJNR"
      }
    },
    {
      "cell_type": "code",
      "source": [
        "#some code"
      ],
      "metadata": {
        "id": "vYpn2XLLoIwv"
      },
      "execution_count": null,
      "outputs": []
    },
    {
      "cell_type": "code",
      "source": [],
      "metadata": {
        "id": "1Y4gQSz1obPZ"
      },
      "execution_count": null,
      "outputs": []
    }
  ]
}