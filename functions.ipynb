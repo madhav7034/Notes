{
  "nbformat": 4,
  "nbformat_minor": 0,
  "metadata": {
    "colab": {
      "provenance": [],
      "authorship_tag": "ABX9TyNwCGHuiqRI6B04PIsVwghb",
      "include_colab_link": true
    },
    "kernelspec": {
      "name": "python3",
      "display_name": "Python 3"
    },
    "language_info": {
      "name": "python"
    }
  },
  "cells": [
    {
      "cell_type": "markdown",
      "metadata": {
        "id": "view-in-github",
        "colab_type": "text"
      },
      "source": [
        "<a href=\"https://colab.research.google.com/github/madhav7034/Notes/blob/main/functions.ipynb\" target=\"_parent\"><img src=\"https://colab.research.google.com/assets/colab-badge.svg\" alt=\"Open In Colab\"/></a>"
      ]
    },
    {
      "cell_type": "code",
      "execution_count": null,
      "metadata": {
        "colab": {
          "base_uri": "https://localhost:8080/"
        },
        "id": "kGZktkvsrVVq",
        "outputId": "8396b504-92b9-4d8d-fb59-54d9b5c24b4e"
      },
      "outputs": [
        {
          "output_type": "stream",
          "name": "stdout",
          "text": [
            "Hello welcome\n",
            "Hello welcome\n"
          ]
        }
      ],
      "source": [
        "def greet():\n",
        "  print('Hello welcome')\n",
        "\n",
        "greet()\n",
        "greet()"
      ]
    },
    {
      "cell_type": "code",
      "source": [
        "def greet():\n",
        "  pass\n",
        "  greet()"
      ],
      "metadata": {
        "id": "JX8hPY11uXNb"
      },
      "execution_count": null,
      "outputs": []
    },
    {
      "cell_type": "code",
      "source": [
        "def greet(name):\n",
        "  print(f'Hello {name}, welcome to the program')\n",
        "\n",
        "greet('Riyan')\n",
        "greet('Farhan')"
      ],
      "metadata": {
        "colab": {
          "base_uri": "https://localhost:8080/"
        },
        "id": "kacpsmstvPIS",
        "outputId": "fd006010-fb5f-4c3e-b574-00575b05e26c"
      },
      "execution_count": null,
      "outputs": [
        {
          "output_type": "stream",
          "name": "stdout",
          "text": [
            "Hello Riyan, welcome to the program\n",
            "Hello Farhan, welcome to the program\n"
          ]
        }
      ]
    },
    {
      "cell_type": "code",
      "source": [
        "def greet(name,time='11pm'):   #default (time='')\n",
        "  print(f'Hello {name}, welcome to the program')\n",
        "  print(f'Your session will start at {time}')\n",
        "\n",
        "greet('Riyan','3pm')\n",
        "greet('Farhan','4pm')\n",
        "greet('Althaf')"
      ],
      "metadata": {
        "colab": {
          "base_uri": "https://localhost:8080/"
        },
        "id": "ooSr7u_SwHNB",
        "outputId": "90d32305-b9bf-4feb-e2db-003b7361688e"
      },
      "execution_count": null,
      "outputs": [
        {
          "output_type": "stream",
          "name": "stdout",
          "text": [
            "Hello Riyan, welcome to the program\n",
            "Your session will start at 3pm\n",
            "Hello Farhan, welcome to the program\n",
            "Your session will start at 4pm\n",
            "Hello Althaf, welcome to the program\n",
            "Your session will start at 11pm\n"
          ]
        }
      ]
    },
    {
      "cell_type": "code",
      "source": [
        "x=int(input('Enter the first number: '))\n",
        "y=int(input('Enter the second number: '))\n",
        "def mul(x,y):\n",
        "  k=x*y\n",
        "  print(k)\n",
        "mul(x,y)\n",
        "\n"
      ],
      "metadata": {
        "colab": {
          "base_uri": "https://localhost:8080/"
        },
        "id": "jFbQwb9txKsZ",
        "outputId": "e427a031-83d8-4eb9-cb0c-f7a46516a225"
      },
      "execution_count": null,
      "outputs": [
        {
          "output_type": "stream",
          "name": "stdout",
          "text": [
            "Enter the first number: 2\n",
            "Enter the second number: 3\n",
            "6\n"
          ]
        }
      ]
    },
    {
      "cell_type": "code",
      "source": [
        "x=int(input('Enter the total bill amount: '))\n",
        "def total(a):\n",
        "  y=x*10/100\n",
        "  z=x+y\n",
        "  print(z)\n",
        "\n",
        "total(x)"
      ],
      "metadata": {
        "colab": {
          "base_uri": "https://localhost:8080/"
        },
        "id": "-Nnnjy0X0bDJ",
        "outputId": "4b74f249-ddbf-48a1-e4fe-e29a4594b2f8"
      },
      "execution_count": null,
      "outputs": [
        {
          "output_type": "stream",
          "name": "stdout",
          "text": [
            "Enter the total bill amount: 100\n",
            "110.0\n"
          ]
        }
      ]
    },
    {
      "cell_type": "code",
      "source": [
        "x=int(input('Enter the total bill amount: '))\n",
        "def total(a):\n",
        "  if price>=1000:\n",
        "    y=x+(20/100*x)\n",
        "    elif price>=500\n",
        "    y=x+(15/100*x)\n",
        "\n"
      ],
      "metadata": {
        "id": "MC-WFs3t5uwN"
      },
      "execution_count": null,
      "outputs": []
    },
    {
      "cell_type": "code",
      "source": [
        "num_list = [12,4,5,7,8,1,10,21]\n",
        "\n",
        "def avg_even(numberlist):\n",
        "  even_list=[]\n",
        "  odd_list=[]\n",
        "  for num in numberlist:\n",
        "    if num % 2 ==0  :\n",
        "      even_list.append(num)\n",
        "    else :\n",
        "      odd_list.append(num)\n",
        "    avg = sum(even_list)/len(even_list)\n",
        "  avg2 = sum(odd_list)/len(odd_list)\n",
        "  print(even_list)\n",
        "  print(odd_list)\n",
        "  print(avg)\n",
        "  print(avg2)\n",
        "\n",
        "avg_even(num_list)"
      ],
      "metadata": {
        "colab": {
          "base_uri": "https://localhost:8080/"
        },
        "id": "S2dKOn13AzC5",
        "outputId": "ba7e9021-3e6c-4592-92e2-47bef7cc8148"
      },
      "execution_count": null,
      "outputs": [
        {
          "output_type": "stream",
          "name": "stdout",
          "text": [
            "[12, 4, 8, 10]\n",
            "[5, 7, 1, 21]\n",
            "8.5\n",
            "8.5\n"
          ]
        }
      ]
    },
    {
      "cell_type": "code",
      "source": [
        "def sum_numbers(*args):\n",
        "  print(type(args))\n",
        "  total=0\n",
        "  for i in args:\n",
        "    total+=i\n",
        "  print(total)\n",
        "\n",
        "sum_numbers(7,8,9,4,3)"
      ],
      "metadata": {
        "colab": {
          "base_uri": "https://localhost:8080/"
        },
        "id": "-Ld8DgFl_KSq",
        "outputId": "396bb538-104a-4009-a376-68080277be00"
      },
      "execution_count": null,
      "outputs": [
        {
          "output_type": "stream",
          "name": "stdout",
          "text": [
            "<class 'tuple'>\n",
            "31\n"
          ]
        }
      ]
    },
    {
      "cell_type": "code",
      "source": [
        "def print_info(**args):\n",
        "  for item,val in args.items():\n",
        "    print(f'{item} is {val}')\n",
        "\n",
        "print_info(name='Riyan',place='Kollam',score=6)\n",
        "print_info(batch='DSA',student='Farhan',qualification='Btech')"
      ],
      "metadata": {
        "colab": {
          "base_uri": "https://localhost:8080/"
        },
        "id": "39KdO5tlARQZ",
        "outputId": "5a2107f9-7a0e-4210-ecda-be9b87b6227d"
      },
      "execution_count": null,
      "outputs": [
        {
          "output_type": "stream",
          "name": "stdout",
          "text": [
            "name is Riyan\n",
            "place is Kollam\n",
            "score is 6\n",
            "batch is DSA\n",
            "student is Farhan\n",
            "qualification is Btech\n"
          ]
        }
      ]
    },
    {
      "cell_type": "code",
      "source": [
        "square=lambda x:x*x\n",
        "square(5)"
      ],
      "metadata": {
        "colab": {
          "base_uri": "https://localhost:8080/"
        },
        "id": "RycqbaoECneO",
        "outputId": "05747fb5-c3f0-450a-bcf1-e173683d8fda"
      },
      "execution_count": null,
      "outputs": [
        {
          "output_type": "execute_result",
          "data": {
            "text/plain": [
              "25"
            ]
          },
          "metadata": {},
          "execution_count": 54
        }
      ]
    },
    {
      "cell_type": "code",
      "source": [
        "add=lambda x,y:x+y\n",
        "add(3,5)"
      ],
      "metadata": {
        "colab": {
          "base_uri": "https://localhost:8080/"
        },
        "id": "BH8J124KMWr_",
        "outputId": "d08ec8ff-09d7-4f2f-d06e-597ff6893994"
      },
      "execution_count": null,
      "outputs": [
        {
          "output_type": "execute_result",
          "data": {
            "text/plain": [
              "8"
            ]
          },
          "metadata": {},
          "execution_count": 55
        }
      ]
    },
    {
      "cell_type": "code",
      "source": [
        "def Totalmark(marks):\n",
        "  return(sum(marks))\n",
        "\n",
        "FinalScore=Totalmark([10,20,30,40,50])\n",
        "if FinalScore>=90:\n",
        "  print('Grade A')\n",
        "elif FinalScore>=80:\n",
        "  print('Grade B')\n",
        "elif FinalScore>=70:\n",
        "  print('Grade C')\n",
        "elif FInalScore>=60:\n",
        "  print('Grade D')"
      ],
      "metadata": {
        "colab": {
          "base_uri": "https://localhost:8080/"
        },
        "id": "XbLz4XL9Mcxo",
        "outputId": "6524a742-52ed-48d0-f8ef-b4215b594ebe"
      },
      "execution_count": null,
      "outputs": [
        {
          "output_type": "stream",
          "name": "stdout",
          "text": [
            "Grade A\n"
          ]
        }
      ]
    },
    {
      "cell_type": "markdown",
      "source": [
        "OOPS\n",
        "\n",
        "1. class\n",
        "2. object/instance\n",
        "3. Inheritence\n",
        "4. Polymorphism\n",
        "5. Encapsulation\n",
        "6. Abstraction"
      ],
      "metadata": {
        "id": "Ar4ni-3sPyv8"
      }
    },
    {
      "cell_type": "code",
      "source": [
        "class Animal:\n",
        "  animal_type='Dog'\n",
        "  num_legs=4\n",
        "  mammal='Yes'\n",
        "\n",
        "  def Sound(self):\n",
        "    print('Animal barks')\n",
        "obj1=Animal()\n",
        "obj1.Sound()"
      ],
      "metadata": {
        "colab": {
          "base_uri": "https://localhost:8080/"
        },
        "id": "IO30GlubOSTy",
        "outputId": "ad382bcd-bb74-4e9d-8624-abc8015436f2"
      },
      "execution_count": null,
      "outputs": [
        {
          "output_type": "stream",
          "name": "stdout",
          "text": [
            "Animal barks\n"
          ]
        }
      ]
    },
    {
      "cell_type": "code",
      "source": [
        "class person :\n",
        "  place='TVM'\n",
        "\n",
        "  def __init__(self,name,age):\n",
        "    self.name=name\n",
        "    self.age=age\n",
        "  def greet(self):\n",
        "    return f'Hi myself {self.name} and my age  is {self.age} and I am from {self.place}'\n",
        "obj1=person('Riyan',23)\n",
        "obj1.greet()\n",
        "\n"
      ],
      "metadata": {
        "id": "VQfbNmAKTnr-",
        "colab": {
          "base_uri": "https://localhost:8080/",
          "height": 36
        },
        "outputId": "a51d6693-4874-40be-afa6-1bf76153a2eb"
      },
      "execution_count": null,
      "outputs": [
        {
          "output_type": "execute_result",
          "data": {
            "text/plain": [
              "'Hi myself Riyan and my age  is 23 and I am from TVM'"
            ],
            "application/vnd.google.colaboratory.intrinsic+json": {
              "type": "string"
            }
          },
          "metadata": {},
          "execution_count": 71
        }
      ]
    },
    {
      "cell_type": "code",
      "source": [
        "class employee :\n",
        "  def init(self,name,emp_id,salary):\n",
        "    self.name = name\n",
        "    self.emp_id = emp_id\n",
        "    self.salary = salary\n",
        "\n",
        "  def display_info(self):\n",
        "    print(f'name : {self.name}')\n",
        "    print(f\"employee ID:{self.emp_id}\")\n",
        "    print(f\"salary: {self.salary}\")\n",
        "\n",
        "  class manager (employee):\n",
        "    def init(self,name,emp_id,salary,dept,teamsize):\n",
        "      super() .init(name,emp_id,salary)\n",
        "      self.dept = dept\n",
        "      self.teamsize = teamsize\n",
        "\n",
        "    def display_manager_info(self):\n",
        "      self.display_info()\n",
        "      print(f\"department: {self.dept}\")\n",
        "      print(f\"team size: {self.teamsize}\")\n",
        "\n",
        "  emp1= employee(\" john doe\",\"12345\",50000)\n",
        "  emp1.display_info()\n",
        "\n",
        "  manager1= manager(\"jane smith\", \"67890\",80000,10,30)\n",
        "  manager1.display_manager_info()\n"
      ],
      "metadata": {
        "colab": {
          "base_uri": "https://localhost:8080/",
          "height": 346
        },
        "id": "P90VslNdWV6x",
        "outputId": "0a07a9d1-aba4-4c21-ca78-3850396f39f3"
      },
      "execution_count": null,
      "outputs": [
        {
          "output_type": "error",
          "ename": "AttributeError",
          "evalue": "'employee' object has no attribute 'display_info'",
          "traceback": [
            "\u001b[0;31m---------------------------------------------------------------------------\u001b[0m",
            "\u001b[0;31mAttributeError\u001b[0m                            Traceback (most recent call last)",
            "\u001b[0;32m/tmp/ipython-input-2022703811.py\u001b[0m in \u001b[0;36m<cell line: 0>\u001b[0;34m()\u001b[0m\n\u001b[0;32m----> 1\u001b[0;31m \u001b[0;32mclass\u001b[0m \u001b[0memployee\u001b[0m \u001b[0;34m:\u001b[0m\u001b[0;34m\u001b[0m\u001b[0;34m\u001b[0m\u001b[0m\n\u001b[0m\u001b[1;32m      2\u001b[0m   \u001b[0;32mdef\u001b[0m \u001b[0minit\u001b[0m\u001b[0;34m(\u001b[0m\u001b[0mself\u001b[0m\u001b[0;34m,\u001b[0m\u001b[0mname\u001b[0m\u001b[0;34m,\u001b[0m\u001b[0memp_id\u001b[0m\u001b[0;34m,\u001b[0m\u001b[0msalary\u001b[0m\u001b[0;34m)\u001b[0m\u001b[0;34m:\u001b[0m\u001b[0;34m\u001b[0m\u001b[0;34m\u001b[0m\u001b[0m\n\u001b[1;32m      3\u001b[0m     \u001b[0mself\u001b[0m\u001b[0;34m.\u001b[0m\u001b[0mname\u001b[0m \u001b[0;34m=\u001b[0m \u001b[0mname\u001b[0m\u001b[0;34m\u001b[0m\u001b[0;34m\u001b[0m\u001b[0m\n\u001b[1;32m      4\u001b[0m     \u001b[0mself\u001b[0m\u001b[0;34m.\u001b[0m\u001b[0memp_id\u001b[0m \u001b[0;34m=\u001b[0m \u001b[0memp_id\u001b[0m\u001b[0;34m\u001b[0m\u001b[0;34m\u001b[0m\u001b[0m\n\u001b[1;32m      5\u001b[0m     \u001b[0mself\u001b[0m\u001b[0;34m.\u001b[0m\u001b[0msalary\u001b[0m \u001b[0;34m=\u001b[0m \u001b[0msalary\u001b[0m\u001b[0;34m\u001b[0m\u001b[0;34m\u001b[0m\u001b[0m\n",
            "\u001b[0;32m/tmp/ipython-input-2022703811.py\u001b[0m in \u001b[0;36memployee\u001b[0;34m()\u001b[0m\n\u001b[1;32m     22\u001b[0m \u001b[0;34m\u001b[0m\u001b[0m\n\u001b[1;32m     23\u001b[0m   \u001b[0memp1\u001b[0m\u001b[0;34m=\u001b[0m \u001b[0memployee\u001b[0m\u001b[0;34m(\u001b[0m\u001b[0;34m\" john doe\"\u001b[0m\u001b[0;34m,\u001b[0m\u001b[0;34m\"12345\"\u001b[0m\u001b[0;34m,\u001b[0m\u001b[0;36m50000\u001b[0m\u001b[0;34m)\u001b[0m\u001b[0;34m\u001b[0m\u001b[0;34m\u001b[0m\u001b[0m\n\u001b[0;32m---> 24\u001b[0;31m   \u001b[0memp1\u001b[0m\u001b[0;34m.\u001b[0m\u001b[0mdisplay_info\u001b[0m\u001b[0;34m(\u001b[0m\u001b[0;34m)\u001b[0m\u001b[0;34m\u001b[0m\u001b[0;34m\u001b[0m\u001b[0m\n\u001b[0m\u001b[1;32m     25\u001b[0m \u001b[0;34m\u001b[0m\u001b[0m\n\u001b[1;32m     26\u001b[0m   \u001b[0mmanager1\u001b[0m\u001b[0;34m=\u001b[0m \u001b[0mmanager\u001b[0m\u001b[0;34m(\u001b[0m\u001b[0;34m\"jane smith\"\u001b[0m\u001b[0;34m,\u001b[0m \u001b[0;34m\"67890\"\u001b[0m\u001b[0;34m,\u001b[0m\u001b[0;36m80000\u001b[0m\u001b[0;34m,\u001b[0m\u001b[0;36m10\u001b[0m\u001b[0;34m,\u001b[0m\u001b[0;36m30\u001b[0m\u001b[0;34m)\u001b[0m\u001b[0;34m\u001b[0m\u001b[0;34m\u001b[0m\u001b[0m\n",
            "\u001b[0;31mAttributeError\u001b[0m: 'employee' object has no attribute 'display_info'"
          ]
        }
      ]
    },
    {
      "cell_type": "code",
      "source": [],
      "metadata": {
        "id": "KVKpCBKcb1Eu"
      },
      "execution_count": null,
      "outputs": []
    }
  ]
}