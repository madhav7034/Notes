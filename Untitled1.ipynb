{
  "nbformat": 4,
  "nbformat_minor": 0,
  "metadata": {
    "colab": {
      "provenance": [],
      "authorship_tag": "ABX9TyM49D3pUHhHNwfxQsLDv0Wz",
      "include_colab_link": true
    },
    "kernelspec": {
      "name": "python3",
      "display_name": "Python 3"
    },
    "language_info": {
      "name": "python"
    }
  },
  "cells": [
    {
      "cell_type": "markdown",
      "metadata": {
        "id": "view-in-github",
        "colab_type": "text"
      },
      "source": [
        "<a href=\"https://colab.research.google.com/github/madhav7034/Notes/blob/main/Untitled1.ipynb\" target=\"_parent\"><img src=\"https://colab.research.google.com/assets/colab-badge.svg\" alt=\"Open In Colab\"/></a>"
      ]
    },
    {
      "cell_type": "code",
      "execution_count": null,
      "metadata": {
        "colab": {
          "base_uri": "https://localhost:8080/"
        },
        "id": "22rWSFJvyBQj",
        "outputId": "3b6916a9-1a35-4695-e1c6-c90cd80385bb"
      },
      "outputs": [
        {
          "output_type": "stream",
          "name": "stdout",
          "text": [
            "6.142857142857143\n",
            "The sorted data is:  [2, 3, 5, 7, 8, 8, 10]\n",
            "The median is:  7\n"
          ]
        }
      ],
      "source": [
        "data = [5,8,2,7,3,8,10]\n",
        "mean = sum(data) / len(data)\n",
        "print(mean)\n",
        "\n",
        "sort_data = sorted(data)\n",
        "print('The sorted data is: ',sort_data)\n",
        "n= len(sort_data)\n",
        "if n % 2 == 1 :\n",
        "  median = sort_data[n//2]\n",
        "  print('The median is: ',median)\n"
      ]
    },
    {
      "cell_type": "code",
      "source": [
        "  data = [5, 8, 2, 7, 3, 8, 10]\n",
        "\n",
        "data_dict = {i: data[i] for i in range(len(data))}\n",
        "print(\"Dictionary:\", data_dict)\n",
        "\n",
        "frequency = {}\n",
        "for value in data_dict.values():\n",
        "    if value in frequency:\n",
        "        frequency[value] += 1\n",
        "    else:\n",
        "        frequency[value] = 1\n",
        "\n",
        "max_count = 0\n",
        "mode = None\n",
        "\n",
        "for key, count in frequency.items():\n",
        "    if count > max_count:\n",
        "        max_count = count\n",
        "        mode = key\n",
        "\n",
        "print(\"Mode:\",mode)"
      ],
      "metadata": {
        "colab": {
          "base_uri": "https://localhost:8080/"
        },
        "id": "yRlHD3XoyrJV",
        "outputId": "d2fddd1b-17a1-4203-9f58-e086a7afc836"
      },
      "execution_count": null,
      "outputs": [
        {
          "output_type": "stream",
          "name": "stdout",
          "text": [
            "Dictionary: {0: 5, 1: 8, 2: 2, 3: 7, 4: 3, 5: 8, 6: 10}\n",
            "Mode: 8\n"
          ]
        }
      ]
    },
    {
      "cell_type": "markdown",
      "source": [
        "Rainfall"
      ],
      "metadata": {
        "id": "5WsNHTS1VcIo"
      }
    },
    {
      "cell_type": "code",
      "source": [],
      "metadata": {
        "id": "SzcV1gA0Vbwb"
      },
      "execution_count": null,
      "outputs": []
    }
  ]
}