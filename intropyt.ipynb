{
  "nbformat": 4,
  "nbformat_minor": 0,
  "metadata": {
    "colab": {
      "provenance": [],
      "authorship_tag": "ABX9TyN+i9BfDlHXOX67bmmZUOmO",
      "include_colab_link": true
    },
    "kernelspec": {
      "name": "python3",
      "display_name": "Python 3"
    },
    "language_info": {
      "name": "python"
    }
  },
  "cells": [
    {
      "cell_type": "markdown",
      "metadata": {
        "id": "view-in-github",
        "colab_type": "text"
      },
      "source": [
        "<a href=\"https://colab.research.google.com/github/madhav7034/Notes/blob/main/intropyt.ipynb\" target=\"_parent\"><img src=\"https://colab.research.google.com/assets/colab-badge.svg\" alt=\"Open In Colab\"/></a>"
      ]
    },
    {
      "cell_type": "code",
      "execution_count": null,
      "metadata": {
        "colab": {
          "base_uri": "https://localhost:8080/"
        },
        "id": "EHojKYsZKhck",
        "outputId": "d211d550-cb39-49b8-c3a2-504a1bb79e9b"
      },
      "outputs": [
        {
          "output_type": "stream",
          "name": "stdout",
          "text": [
            "28\n"
          ]
        }
      ],
      "source": [
        "age=28\n",
        "print(age)"
      ]
    },
    {
      "cell_type": "code",
      "source": [
        "age=40.87\n",
        "type(age)"
      ],
      "metadata": {
        "colab": {
          "base_uri": "https://localhost:8080/"
        },
        "id": "cssugrtLMBZo",
        "outputId": "7044f58b-b85a-424b-d675-4b9a84e72db0"
      },
      "execution_count": null,
      "outputs": [
        {
          "output_type": "execute_result",
          "data": {
            "text/plain": [
              "float"
            ]
          },
          "metadata": {},
          "execution_count": 5
        }
      ]
    },
    {
      "cell_type": "markdown",
      "source": [
        "Complex"
      ],
      "metadata": {
        "id": "pGZzHojQOiHj"
      }
    },
    {
      "cell_type": "code",
      "source": [
        "age=2.5+6j\n",
        "print(age)"
      ],
      "metadata": {
        "colab": {
          "base_uri": "https://localhost:8080/"
        },
        "id": "oJdrOY33Oj2z",
        "outputId": "b2913a44-c576-433b-ce42-0bad50047ca0"
      },
      "execution_count": null,
      "outputs": [
        {
          "output_type": "stream",
          "name": "stdout",
          "text": [
            "(2.5+6j)\n"
          ]
        }
      ]
    },
    {
      "cell_type": "code",
      "source": [
        "type(age)"
      ],
      "metadata": {
        "colab": {
          "base_uri": "https://localhost:8080/"
        },
        "id": "EPm3V9QHOzWr",
        "outputId": "8b702617-4171-4662-c0dc-9fd6e17b8dd7"
      },
      "execution_count": null,
      "outputs": [
        {
          "output_type": "execute_result",
          "data": {
            "text/plain": [
              "complex"
            ]
          },
          "metadata": {},
          "execution_count": 7
        }
      ]
    },
    {
      "cell_type": "markdown",
      "source": [
        "Sequence\n",
        "2 types\n",
        "1. List - [  ]\n",
        "2. Tuple  - (  )"
      ],
      "metadata": {
        "id": "5eX77WBTPtQD"
      }
    },
    {
      "cell_type": "code",
      "source": [
        "days=[9,12,1]\n",
        "type(days)"
      ],
      "metadata": {
        "colab": {
          "base_uri": "https://localhost:8080/"
        },
        "id": "kuoafUcQP0Q-",
        "outputId": "954925c8-5090-4fa6-d11a-c13c681c01c3"
      },
      "execution_count": null,
      "outputs": [
        {
          "output_type": "execute_result",
          "data": {
            "text/plain": [
              "list"
            ]
          },
          "metadata": {},
          "execution_count": 8
        }
      ]
    },
    {
      "cell_type": "code",
      "source": [
        "marks=['Student 1',95,'Student 2',87]\n",
        "type(marks)"
      ],
      "metadata": {
        "colab": {
          "base_uri": "https://localhost:8080/"
        },
        "id": "E70ql5KMP_Em",
        "outputId": "b70e1001-b74d-42cb-c29a-0de4e51eb013"
      },
      "execution_count": null,
      "outputs": [
        {
          "output_type": "execute_result",
          "data": {
            "text/plain": [
              "list"
            ]
          },
          "metadata": {},
          "execution_count": 9
        }
      ]
    },
    {
      "cell_type": "code",
      "source": [
        "marks=('Student 1',98,'Student 2',95)\n",
        "type(marks)"
      ],
      "metadata": {
        "colab": {
          "base_uri": "https://localhost:8080/"
        },
        "id": "RxVctWWzQvuf",
        "outputId": "4b28c0b7-08bf-4ede-92d3-824ed12abac8"
      },
      "execution_count": null,
      "outputs": [
        {
          "output_type": "execute_result",
          "data": {
            "text/plain": [
              "tuple"
            ]
          },
          "metadata": {},
          "execution_count": 10
        }
      ]
    },
    {
      "cell_type": "markdown",
      "source": [
        "Range  (start,stop,step)"
      ],
      "metadata": {
        "id": "1yKK_Uu9RaVB"
      }
    },
    {
      "cell_type": "code",
      "source": [
        "list(range(5))"
      ],
      "metadata": {
        "colab": {
          "base_uri": "https://localhost:8080/"
        },
        "id": "YTK_jdGjRrHB",
        "outputId": "be8245fa-8ad9-49e7-f042-83f0c395df04"
      },
      "execution_count": null,
      "outputs": [
        {
          "output_type": "execute_result",
          "data": {
            "text/plain": [
              "[0, 1, 2, 3, 4]"
            ]
          },
          "metadata": {},
          "execution_count": 12
        }
      ]
    },
    {
      "cell_type": "code",
      "source": [
        "list(range(1,6))"
      ],
      "metadata": {
        "colab": {
          "base_uri": "https://localhost:8080/"
        },
        "id": "LzUlqMSaRb6s",
        "outputId": "6ff17ab0-df9d-4d23-d802-e06d80f9b1b4"
      },
      "execution_count": null,
      "outputs": [
        {
          "output_type": "execute_result",
          "data": {
            "text/plain": [
              "[1, 2, 3, 4, 5]"
            ]
          },
          "metadata": {},
          "execution_count": 11
        }
      ]
    },
    {
      "cell_type": "markdown",
      "source": [
        "Print Even numbers 0-9"
      ],
      "metadata": {
        "id": "JO-Z5rJhST2h"
      }
    },
    {
      "cell_type": "code",
      "source": [
        "list(range(0,10,2))"
      ],
      "metadata": {
        "colab": {
          "base_uri": "https://localhost:8080/"
        },
        "id": "Qm7fJZQrSXkQ",
        "outputId": "99fe527d-3c80-48c9-cf2b-3832510ddcfb"
      },
      "execution_count": null,
      "outputs": [
        {
          "output_type": "execute_result",
          "data": {
            "text/plain": [
              "[0, 2, 4, 6, 8]"
            ]
          },
          "metadata": {},
          "execution_count": 13
        }
      ]
    },
    {
      "cell_type": "markdown",
      "source": [
        "Print Odd numbers 0-9"
      ],
      "metadata": {
        "id": "9g-tm6NpScFG"
      }
    },
    {
      "cell_type": "code",
      "source": [
        "list(range(1,10,2))"
      ],
      "metadata": {
        "colab": {
          "base_uri": "https://localhost:8080/"
        },
        "id": "aQAoX6b-SfSN",
        "outputId": "552d28dd-3e9d-46b0-8614-a276f8de3b07"
      },
      "execution_count": null,
      "outputs": [
        {
          "output_type": "execute_result",
          "data": {
            "text/plain": [
              "[1, 3, 5, 7, 9]"
            ]
          },
          "metadata": {},
          "execution_count": 14
        }
      ]
    },
    {
      "cell_type": "markdown",
      "source": [
        "Print even digits in reverse order"
      ],
      "metadata": {
        "id": "hBIvrAA9TKin"
      }
    },
    {
      "cell_type": "code",
      "source": [
        "list(range(8,-1,-2))"
      ],
      "metadata": {
        "colab": {
          "base_uri": "https://localhost:8080/"
        },
        "id": "gkncsraVTP6Q",
        "outputId": "b23e46ca-34da-43c1-cb80-a1dd597314da"
      },
      "execution_count": null,
      "outputs": [
        {
          "output_type": "execute_result",
          "data": {
            "text/plain": [
              "[8, 6, 4, 2, 0]"
            ]
          },
          "metadata": {},
          "execution_count": 15
        }
      ]
    },
    {
      "cell_type": "markdown",
      "source": [
        "Mapping type\n",
        "1. Dictionary"
      ],
      "metadata": {
        "id": "UQLm6f1dTwts"
      }
    },
    {
      "cell_type": "code",
      "source": [
        "details={'batch':7,'course':'DSA'}\n",
        "details['batch']"
      ],
      "metadata": {
        "colab": {
          "base_uri": "https://localhost:8080/"
        },
        "id": "yCXaSPKoT3bO",
        "outputId": "07630aa2-b67e-4d02-bd90-65b681dc6f8c"
      },
      "execution_count": null,
      "outputs": [
        {
          "output_type": "execute_result",
          "data": {
            "text/plain": [
              "7"
            ]
          },
          "metadata": {},
          "execution_count": 16
        }
      ]
    },
    {
      "cell_type": "code",
      "source": [
        "details={'batch':7,'course':'DSA'}\n",
        "details['course']"
      ],
      "metadata": {
        "colab": {
          "base_uri": "https://localhost:8080/",
          "height": 36
        },
        "outputId": "1fad3559-7722-4f37-868c-e0df773454b0",
        "id": "AP4ZH7p3UJiG"
      },
      "execution_count": null,
      "outputs": [
        {
          "output_type": "execute_result",
          "data": {
            "text/plain": [
              "'DSA'"
            ],
            "application/vnd.google.colaboratory.intrinsic+json": {
              "type": "string"
            }
          },
          "metadata": {},
          "execution_count": 17
        }
      ]
    },
    {
      "cell_type": "code",
      "source": [
        "details.keys()"
      ],
      "metadata": {
        "colab": {
          "base_uri": "https://localhost:8080/"
        },
        "id": "XGQQiYoWURiV",
        "outputId": "6cdcf2f1-b10d-4018-c961-9a48397b4a63"
      },
      "execution_count": null,
      "outputs": [
        {
          "output_type": "execute_result",
          "data": {
            "text/plain": [
              "dict_keys(['batch', 'course'])"
            ]
          },
          "metadata": {},
          "execution_count": 18
        }
      ]
    },
    {
      "cell_type": "code",
      "source": [
        "details.values()"
      ],
      "metadata": {
        "colab": {
          "base_uri": "https://localhost:8080/"
        },
        "id": "9JHLqkV-UVeY",
        "outputId": "58157f65-4c1f-4f92-c37c-ff7acacb8bb0"
      },
      "execution_count": null,
      "outputs": [
        {
          "output_type": "execute_result",
          "data": {
            "text/plain": [
              "dict_values([7, 'DSA'])"
            ]
          },
          "metadata": {},
          "execution_count": 20
        }
      ]
    },
    {
      "cell_type": "markdown",
      "source": [
        "Set data types"
      ],
      "metadata": {
        "id": "1XvYABClVWRh"
      }
    },
    {
      "cell_type": "code",
      "source": [
        "colors={'Red','Green','Blue','Red'}\n",
        "print(colors)"
      ],
      "metadata": {
        "colab": {
          "base_uri": "https://localhost:8080/"
        },
        "id": "qpBiBmolVY_k",
        "outputId": "12d27783-b55e-4615-9c9c-3c13d1d4547b"
      },
      "execution_count": null,
      "outputs": [
        {
          "output_type": "stream",
          "name": "stdout",
          "text": [
            "{'Blue', 'Red', 'Green'}\n"
          ]
        }
      ]
    },
    {
      "cell_type": "markdown",
      "source": [
        "Boolean"
      ],
      "metadata": {
        "id": "aFKzz2tGV2XR"
      }
    },
    {
      "cell_type": "code",
      "source": [
        "engine_off=True\n",
        "fan_off=False\n",
        "type(engine_off)"
      ],
      "metadata": {
        "colab": {
          "base_uri": "https://localhost:8080/"
        },
        "id": "SZsNiPFaV3t6",
        "outputId": "dae6afc0-2d87-4d26-9cf8-dc05835d9f25"
      },
      "execution_count": null,
      "outputs": [
        {
          "output_type": "execute_result",
          "data": {
            "text/plain": [
              "bool"
            ]
          },
          "metadata": {},
          "execution_count": 22
        }
      ]
    },
    {
      "cell_type": "markdown",
      "source": [
        "None"
      ],
      "metadata": {
        "id": "Umfd-TY2WOx7"
      }
    },
    {
      "cell_type": "code",
      "source": [
        "value=None\n",
        "type(value)"
      ],
      "metadata": {
        "colab": {
          "base_uri": "https://localhost:8080/"
        },
        "id": "J5mtil7YWP7R",
        "outputId": "647d15dc-0c9c-4e19-94e9-08fb28470d3b"
      },
      "execution_count": null,
      "outputs": [
        {
          "output_type": "execute_result",
          "data": {
            "text/plain": [
              "NoneType"
            ]
          },
          "metadata": {},
          "execution_count": 23
        }
      ]
    },
    {
      "cell_type": "markdown",
      "source": [
        "activity"
      ],
      "metadata": {
        "id": "Moium4ChYfj3"
      }
    },
    {
      "cell_type": "code",
      "source": [
        "year_of_birth=1998\n",
        "age=(2025-year_of_birth)\n",
        "print(age)"
      ],
      "metadata": {
        "colab": {
          "base_uri": "https://localhost:8080/"
        },
        "id": "bzIUUWdwYgz1",
        "outputId": "d342c0ef-f0a7-4e60-c602-c08919819ff3"
      },
      "execution_count": null,
      "outputs": [
        {
          "output_type": "stream",
          "name": "stdout",
          "text": [
            "27\n"
          ]
        }
      ]
    },
    {
      "cell_type": "markdown",
      "source": [
        "Bio data"
      ],
      "metadata": {
        "id": "3MNyu4ldZN5c"
      }
    },
    {
      "cell_type": "code",
      "source": [
        "bio_data={'Name':'aaaa','Age':21,'Location':'klm'}\n",
        "print(bio_data)"
      ],
      "metadata": {
        "colab": {
          "base_uri": "https://localhost:8080/"
        },
        "id": "iefAWSVIZbzV",
        "outputId": "4d660fac-2795-47eb-bcd4-51d8c0e4fb8d"
      },
      "execution_count": null,
      "outputs": [
        {
          "output_type": "stream",
          "name": "stdout",
          "text": [
            "{'Name': 'aaaa', 'Age': 21, 'Location': 'klm'}\n"
          ]
        }
      ]
    },
    {
      "cell_type": "markdown",
      "source": [
        "TO do list"
      ],
      "metadata": {
        "id": "d30kbYIAadI8"
      }
    },
    {
      "cell_type": "code",
      "source": [
        "to_do=['wake up','brush','bathe','eat']\n",
        "print(to_do)\n",
        "print(to_do[1])\n",
        "print(to_do[-2])"
      ],
      "metadata": {
        "colab": {
          "base_uri": "https://localhost:8080/"
        },
        "id": "0zFy8YWzafZK",
        "outputId": "5d9eae95-d936-4d88-a416-b139110c3a37"
      },
      "execution_count": null,
      "outputs": [
        {
          "output_type": "stream",
          "name": "stdout",
          "text": [
            "['wake up', 'brush', 'bathe', 'eat']\n",
            "brush\n",
            "bathe\n"
          ]
        }
      ]
    },
    {
      "cell_type": "code",
      "source": [
        "print()"
      ],
      "metadata": {
        "id": "wI6EUPDecTDP"
      },
      "execution_count": null,
      "outputs": []
    },
    {
      "cell_type": "markdown",
      "source": [
        "list of odd nos"
      ],
      "metadata": {
        "id": "x-f1ovgkazAn"
      }
    },
    {
      "cell_type": "code",
      "source": [
        "list(range(99,0,-2))"
      ],
      "metadata": {
        "colab": {
          "base_uri": "https://localhost:8080/"
        },
        "id": "pCzR4EE2a3ko",
        "outputId": "210e8366-7d8c-4e7c-b929-cfb9e500ca00"
      },
      "execution_count": null,
      "outputs": [
        {
          "output_type": "execute_result",
          "data": {
            "text/plain": [
              "[99,\n",
              " 97,\n",
              " 95,\n",
              " 93,\n",
              " 91,\n",
              " 89,\n",
              " 87,\n",
              " 85,\n",
              " 83,\n",
              " 81,\n",
              " 79,\n",
              " 77,\n",
              " 75,\n",
              " 73,\n",
              " 71,\n",
              " 69,\n",
              " 67,\n",
              " 65,\n",
              " 63,\n",
              " 61,\n",
              " 59,\n",
              " 57,\n",
              " 55,\n",
              " 53,\n",
              " 51,\n",
              " 49,\n",
              " 47,\n",
              " 45,\n",
              " 43,\n",
              " 41,\n",
              " 39,\n",
              " 37,\n",
              " 35,\n",
              " 33,\n",
              " 31,\n",
              " 29,\n",
              " 27,\n",
              " 25,\n",
              " 23,\n",
              " 21,\n",
              " 19,\n",
              " 17,\n",
              " 15,\n",
              " 13,\n",
              " 11,\n",
              " 9,\n",
              " 7,\n",
              " 5,\n",
              " 3,\n",
              " 1]"
            ]
          },
          "metadata": {},
          "execution_count": 31
        }
      ]
    },
    {
      "cell_type": "markdown",
      "source": [
        "Number of chars"
      ],
      "metadata": {
        "id": "AgGwxTHsddQf"
      }
    },
    {
      "cell_type": "code",
      "source": [
        "x=input('Enter your name:')\n",
        "len(x)"
      ],
      "metadata": {
        "colab": {
          "base_uri": "https://localhost:8080/"
        },
        "id": "awe45OMkdfkE",
        "outputId": "a785271b-2a0d-46b4-82cc-7d0bc82f11e4"
      },
      "execution_count": null,
      "outputs": [
        {
          "name": "stdout",
          "output_type": "stream",
          "text": [
            "Enter your name:riyan\n"
          ]
        },
        {
          "output_type": "execute_result",
          "data": {
            "text/plain": [
              "5"
            ]
          },
          "metadata": {},
          "execution_count": 39
        }
      ]
    },
    {
      "cell_type": "markdown",
      "source": [
        "Art Op"
      ],
      "metadata": {
        "id": "TsjDPvyUenot"
      }
    },
    {
      "cell_type": "code",
      "source": [
        "x=float(input('Enter the first number:'))\n",
        "y=float(input('Enter the next number:'))\n",
        "z=(x+y)\n",
        "print(z)\n",
        "a=(x-y)\n",
        "print(a)\n",
        "b=(x*y)\n",
        "print(b)\n",
        "c=(x/y)\n",
        "print(c)"
      ],
      "metadata": {
        "colab": {
          "base_uri": "https://localhost:8080/"
        },
        "id": "_jcPork1etmj",
        "outputId": "d2c866a9-4f52-43ae-c0cb-73d96e63281a"
      },
      "execution_count": null,
      "outputs": [
        {
          "output_type": "stream",
          "name": "stdout",
          "text": [
            "Enter the first number:6\n",
            "Enter the next number:2\n",
            "8.0\n",
            "4.0\n",
            "12.0\n",
            "3.0\n"
          ]
        }
      ]
    },
    {
      "cell_type": "code",
      "source": [
        "x=int(input('Enter your dob: '))\n",
        "age=(2025-x)\n",
        "print('Your age and DOB is: ',x,age)"
      ],
      "metadata": {
        "colab": {
          "base_uri": "https://localhost:8080/"
        },
        "id": "D9nt889yhIRO",
        "outputId": "b156aa2f-5e48-490b-8cd9-7cd4dd32583a"
      },
      "execution_count": null,
      "outputs": [
        {
          "output_type": "stream",
          "name": "stdout",
          "text": [
            "Enter your dob: 2002\n",
            "Your age and DOB is:{x}  2002 23\n"
          ]
        }
      ]
    },
    {
      "cell_type": "markdown",
      "source": [
        "Exponentiation"
      ],
      "metadata": {
        "id": "xcqx9SgzoH-C"
      }
    },
    {
      "cell_type": "code",
      "source": [
        "a=10\n",
        "b=3\n",
        "c=a**b\n",
        "print(c)"
      ],
      "metadata": {
        "colab": {
          "base_uri": "https://localhost:8080/"
        },
        "id": "iEADBb0eoHk9",
        "outputId": "68b4a02a-81ee-4ab6-bd6c-56256348e5c9"
      },
      "execution_count": null,
      "outputs": [
        {
          "output_type": "stream",
          "name": "stdout",
          "text": [
            "1000\n"
          ]
        }
      ]
    },
    {
      "cell_type": "markdown",
      "source": [
        "Floor Division"
      ],
      "metadata": {
        "id": "1E0k23qrogOk"
      }
    },
    {
      "cell_type": "code",
      "source": [
        "num=9\n",
        "den=2\n",
        "result= num//den\n",
        "print(result)"
      ],
      "metadata": {
        "colab": {
          "base_uri": "https://localhost:8080/"
        },
        "id": "QuZY5ewvoi15",
        "outputId": "b726a3e0-ba57-44cb-9f05-66a5b2528e0d"
      },
      "execution_count": null,
      "outputs": [
        {
          "output_type": "stream",
          "name": "stdout",
          "text": [
            "4\n"
          ]
        }
      ]
    },
    {
      "cell_type": "markdown",
      "source": [
        "Logical OP"
      ],
      "metadata": {
        "id": "IGRXgonqqkDZ"
      }
    },
    {
      "cell_type": "code",
      "source": [
        "#AND\n",
        "print(True and True)"
      ],
      "metadata": {
        "colab": {
          "base_uri": "https://localhost:8080/"
        },
        "id": "F_evOGMtqQ6H",
        "outputId": "6e38b8f4-7ce4-4ed9-d5fd-e7a0b73dfac2"
      },
      "execution_count": null,
      "outputs": [
        {
          "output_type": "stream",
          "name": "stdout",
          "text": [
            "True\n"
          ]
        }
      ]
    },
    {
      "cell_type": "code",
      "source": [
        "#OR\n",
        "print(True or False)"
      ],
      "metadata": {
        "colab": {
          "base_uri": "https://localhost:8080/"
        },
        "id": "eRxMMcThqXos",
        "outputId": "38807505-8774-480b-e21c-7cb5df91ee66"
      },
      "execution_count": null,
      "outputs": [
        {
          "output_type": "stream",
          "name": "stdout",
          "text": [
            "True\n"
          ]
        }
      ]
    },
    {
      "cell_type": "code",
      "source": [
        "#NOT\n",
        "print(not True)"
      ],
      "metadata": {
        "colab": {
          "base_uri": "https://localhost:8080/"
        },
        "id": "8Qv5DvfEqcMP",
        "outputId": "a5f3846d-95c0-40e3-9de3-c69d589e417b"
      },
      "execution_count": null,
      "outputs": [
        {
          "output_type": "stream",
          "name": "stdout",
          "text": [
            "False\n"
          ]
        }
      ]
    },
    {
      "cell_type": "markdown",
      "source": [
        "Membership OP"
      ],
      "metadata": {
        "id": "3Lx4bEnaqmla"
      }
    },
    {
      "cell_type": "code",
      "source": [
        "#IN\n",
        "print(1 in[1,2,3])"
      ],
      "metadata": {
        "colab": {
          "base_uri": "https://localhost:8080/"
        },
        "id": "rZB7TKu6qpIZ",
        "outputId": "b242f2ce-e976-49ad-cbb7-bcb0b3b2bf47"
      },
      "execution_count": null,
      "outputs": [
        {
          "output_type": "stream",
          "name": "stdout",
          "text": [
            "True\n"
          ]
        }
      ]
    },
    {
      "cell_type": "code",
      "source": [
        "#NOT IN\n",
        "print(1 not in[1,2,3])"
      ],
      "metadata": {
        "colab": {
          "base_uri": "https://localhost:8080/"
        },
        "id": "4isHjbtbq22H",
        "outputId": "00eb5cc6-6bb1-4cf8-b146-48c2342a4907"
      },
      "execution_count": null,
      "outputs": [
        {
          "output_type": "stream",
          "name": "stdout",
          "text": [
            "False\n"
          ]
        }
      ]
    },
    {
      "cell_type": "code",
      "source": [
        "'x' in 'Malayalam'"
      ],
      "metadata": {
        "colab": {
          "base_uri": "https://localhost:8080/"
        },
        "id": "BL9Li5zDq8Nb",
        "outputId": "6827ff21-095c-4aa7-d873-b2e580df21b1"
      },
      "execution_count": null,
      "outputs": [
        {
          "output_type": "execute_result",
          "data": {
            "text/plain": [
              "False"
            ]
          },
          "metadata": {},
          "execution_count": 80
        }
      ]
    },
    {
      "cell_type": "code",
      "source": [
        "#IS\n",
        "a=10\n",
        "b=10\n",
        "print(a is b)"
      ],
      "metadata": {
        "colab": {
          "base_uri": "https://localhost:8080/"
        },
        "id": "PLh2aut6rsq3",
        "outputId": "0077c32f-95e7-47bc-eea2-f18f04b994c4"
      },
      "execution_count": null,
      "outputs": [
        {
          "output_type": "stream",
          "name": "stdout",
          "text": [
            "True\n"
          ]
        }
      ]
    },
    {
      "cell_type": "code",
      "source": [
        "a=10\n",
        "b=12\n",
        "print(a is b)"
      ],
      "metadata": {
        "colab": {
          "base_uri": "https://localhost:8080/"
        },
        "id": "4rpMVzlwr2xy",
        "outputId": "844f806d-91c9-4fb4-ed61-415f18c3d5ed"
      },
      "execution_count": null,
      "outputs": [
        {
          "output_type": "stream",
          "name": "stdout",
          "text": [
            "False\n"
          ]
        }
      ]
    },
    {
      "cell_type": "code",
      "source": [
        "x=input(\"Enter your message: \")\n",
        "y=int(input('Enter the number of times you want to show the message: '))\n",
        "print('The message is: ',x*y)"
      ],
      "metadata": {
        "colab": {
          "base_uri": "https://localhost:8080/"
        },
        "id": "vWVZ756wsjHp",
        "outputId": "c21269b4-7c79-48e2-f63f-d996ef725dd4"
      },
      "execution_count": null,
      "outputs": [
        {
          "output_type": "stream",
          "name": "stdout",
          "text": [
            "Enter your message: hello\n",
            "Enter the number of times you want to show the message: 5\n",
            "The message is:  hellohellohellohellohello\n"
          ]
        }
      ]
    },
    {
      "cell_type": "markdown",
      "source": [
        "Palindrome"
      ],
      "metadata": {
        "id": "AXGQppW6wHla"
      }
    },
    {
      "cell_type": "code",
      "source": [
        "x=input('Enter your string: ')\n",
        "y=x[::-1]\n",
        "y==x"
      ],
      "metadata": {
        "colab": {
          "base_uri": "https://localhost:8080/"
        },
        "id": "T3FkpOrlwJQb",
        "outputId": "d3751220-869b-4df0-8ddd-fbe452ccbc63"
      },
      "execution_count": null,
      "outputs": [
        {
          "name": "stdout",
          "output_type": "stream",
          "text": [
            "Enter your string: malayalam\n"
          ]
        },
        {
          "output_type": "execute_result",
          "data": {
            "text/plain": [
              "True"
            ]
          },
          "metadata": {},
          "execution_count": 106
        }
      ]
    },
    {
      "cell_type": "code",
      "source": [
        "digit_words={1:'One',2:'Two'}\n",
        "x=float(input('Enter your digit: '))\n",
        "print(digit_words[x])"
      ],
      "metadata": {
        "colab": {
          "base_uri": "https://localhost:8080/"
        },
        "id": "UVEGcNDAy6kA",
        "outputId": "cf1cd0ed-5a9a-4070-c430-c8134ffb2cf5"
      },
      "execution_count": null,
      "outputs": [
        {
          "output_type": "stream",
          "name": "stdout",
          "text": [
            "Enter your digit: 1\n",
            "One\n"
          ]
        }
      ]
    },
    {
      "cell_type": "markdown",
      "source": [
        "digits to words"
      ],
      "metadata": {
        "id": "2HFAkjH65yJT"
      }
    },
    {
      "cell_type": "code",
      "source": [
        "digits = [\"zero\",\"one\",\"two\",\"three\",\"four\",\"five\",\"six\",\"seven\"]\n",
        "otp = input(\"\")\n",
        "a = int(otp[0])\n",
        "b = int(otp[1])\n",
        "c = int(otp[2])\n",
        "d = int(otp[3])\n",
        "print(digits[a],digits[b],digits[c],digits[d])\n"
      ],
      "metadata": {
        "colab": {
          "base_uri": "https://localhost:8080/"
        },
        "collapsed": true,
        "id": "hX7lhWJR03ko",
        "outputId": "71d26161-c922-449a-f50c-4ea836ad343a"
      },
      "execution_count": null,
      "outputs": [
        {
          "output_type": "stream",
          "name": "stdout",
          "text": [
            "1234\n",
            "one two three four\n"
          ]
        }
      ]
    },
    {
      "cell_type": "markdown",
      "source": [
        "words to digits\n"
      ],
      "metadata": {
        "id": "vIm2HJBm52Dd"
      }
    },
    {
      "cell_type": "code",
      "source": [
        "digitw = {\"zero\":0,\"one\":1,\"two\":2,\"three\":3,\"four\":4,\"five\":5,\"six\":6,\"seven\":7}\n",
        "otp = input(\"\")\n",
        "a = int(otp[0])\n",
        "b = int(otp[1])\n",
        "c = int(otp[2])\n",
        "d = int(otp[3])\n",
        "print(digitw[a],digitw[b],digitw[c],digitw[d])\n"
      ],
      "metadata": {
        "id": "P3uiOS_M54so"
      },
      "execution_count": null,
      "outputs": []
    }
  ]
}