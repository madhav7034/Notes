{
  "nbformat": 4,
  "nbformat_minor": 0,
  "metadata": {
    "colab": {
      "provenance": [],
      "authorship_tag": "ABX9TyNorTN1Rk3DRAxZIbpCsfXn",
      "include_colab_link": true
    },
    "kernelspec": {
      "name": "python3",
      "display_name": "Python 3"
    },
    "language_info": {
      "name": "python"
    }
  },
  "cells": [
    {
      "cell_type": "markdown",
      "metadata": {
        "id": "view-in-github",
        "colab_type": "text"
      },
      "source": [
        "<a href=\"https://colab.research.google.com/github/madhav7034/Notes/blob/main/controlflow.ipynb\" target=\"_parent\"><img src=\"https://colab.research.google.com/assets/colab-badge.svg\" alt=\"Open In Colab\"/></a>"
      ]
    },
    {
      "cell_type": "markdown",
      "source": [
        "if and else"
      ],
      "metadata": {
        "id": "vXcmRy4ZUdI3"
      }
    },
    {
      "cell_type": "code",
      "execution_count": null,
      "metadata": {
        "colab": {
          "base_uri": "https://localhost:8080/"
        },
        "id": "d5zTXT42R7uF",
        "outputId": "20df7b42-fceb-4024-8341-72cbeca82bb7"
      },
      "outputs": [
        {
          "output_type": "stream",
          "name": "stdout",
          "text": [
            "Enter your age: 12\n",
            "You are ineligible to vote\n"
          ]
        }
      ],
      "source": [
        "x=int(input('Enter your age: '))\n",
        "if x>=18 :\n",
        " print(\"You are eligible to vote\")\n",
        "else:\n",
        " print('You are ineligible to vote')\n"
      ]
    },
    {
      "cell_type": "markdown",
      "source": [
        "IF- ELIF"
      ],
      "metadata": {
        "id": "AGpLnBYXUmTB"
      }
    },
    {
      "cell_type": "code",
      "source": [
        "x=int(input('Enter your number: '))\n",
        "if x>0:\n",
        "  print(x ,'is greater than 0')\n",
        "elif x==0:\n",
        "    print(x,'is equal to 0')\n",
        "elif x<0:\n",
        "      print(x,'is less than 0')"
      ],
      "metadata": {
        "colab": {
          "base_uri": "https://localhost:8080/"
        },
        "id": "VlEPLLpXUo1V",
        "outputId": "3a6303cc-3bd1-4100-a7d5-5144d22f0e76"
      },
      "execution_count": null,
      "outputs": [
        {
          "output_type": "stream",
          "name": "stdout",
          "text": [
            "Enter your number: -10\n",
            "-10 is less than 0\n"
          ]
        }
      ]
    },
    {
      "cell_type": "code",
      "source": [
        "x=int(input('Enter your age: '))\n",
        "if x<=12:\n",
        "  print('You are a child')\n",
        "elif x>=13 and x <=19:\n",
        "  print('You are a teen')\n",
        "elif x>=20 and x<=59:\n",
        "  print('You are an adult')\n",
        "elif x>60:\n",
        "  print('You are a senior citizen')"
      ],
      "metadata": {
        "colab": {
          "base_uri": "https://localhost:8080/"
        },
        "id": "JKZXeTNzWF4I",
        "outputId": "ac2c0b1c-a537-4c88-8c92-c688d0cf5e5b"
      },
      "execution_count": null,
      "outputs": [
        {
          "output_type": "stream",
          "name": "stdout",
          "text": [
            "Enter your age: 59\n",
            "You are an adult\n"
          ]
        }
      ]
    },
    {
      "cell_type": "markdown",
      "source": [
        "Name lengthy (more than 10 chars)"
      ],
      "metadata": {
        "id": "9GanIeWEZdV5"
      }
    },
    {
      "cell_type": "code",
      "source": [
        "x=input('Enter your name: ')\n",
        "if len(x)>10:\n",
        "  print('Your name is lengthy')\n",
        "else:\n",
        "  print('Your name is normal')"
      ],
      "metadata": {
        "colab": {
          "base_uri": "https://localhost:8080/"
        },
        "id": "t8IRDDZ3ZZtz",
        "outputId": "87602fd9-15f3-43ef-dbf3-792363d0d9c4"
      },
      "execution_count": null,
      "outputs": [
        {
          "output_type": "stream",
          "name": "stdout",
          "text": [
            "Enter your name: farhan kareeem\n",
            "Your name is lengthy\n"
          ]
        }
      ]
    },
    {
      "cell_type": "markdown",
      "source": [
        "railway time"
      ],
      "metadata": {
        "id": "yjrCp3URauTI"
      }
    },
    {
      "cell_type": "code",
      "source": [
        "x=int(input('Enter the hour: '))\n",
        "y=int(input('Enter the minutes: '))\n",
        "if x==24:\n",
        "  print(z,':',y,'am')\n",
        "if x>12 or x<24:\n",
        "  z=x-12\n",
        "  print(z,':',y,'pm')\n",
        "else:\n",
        "  print(x,':',y,'am')\n"
      ],
      "metadata": {
        "colab": {
          "base_uri": "https://localhost:8080/"
        },
        "id": "vWES_IpVawUr",
        "outputId": "a4d12c69-33c9-42d5-eccb-c522bfa9b24f"
      },
      "execution_count": null,
      "outputs": [
        {
          "output_type": "stream",
          "name": "stdout",
          "text": [
            "Enter the hour: 24\n",
            "Enter the minutes: 10\n",
            "12 : 10 am\n",
            "12 : 10 pm\n"
          ]
        }
      ]
    },
    {
      "cell_type": "markdown",
      "source": [
        "1. palindrome or not"
      ],
      "metadata": {
        "id": "rz6TpSd9g7vb"
      }
    },
    {
      "cell_type": "code",
      "source": [
        "x=input('Enter your string: ')\n",
        "y=x[::-1]\n",
        "if y==x:\n",
        "  print('The given string is palindrome')\n",
        "else:\n",
        "  print('The given string is not palindrome')"
      ],
      "metadata": {
        "colab": {
          "base_uri": "https://localhost:8080/"
        },
        "id": "yeR5GtXgiA6K",
        "outputId": "e3f497f7-1b93-425b-d71e-155eee5dc74b"
      },
      "execution_count": null,
      "outputs": [
        {
          "output_type": "stream",
          "name": "stdout",
          "text": [
            "Enter your string: malayalam\n",
            "The given string is palindrome\n"
          ]
        }
      ]
    },
    {
      "cell_type": "markdown",
      "source": [
        "primary color or not\n"
      ],
      "metadata": {
        "id": "KNo-UIkgihMu"
      }
    },
    {
      "cell_type": "code",
      "source": [
        "x=input('Enter your color: ')\n",
        "if x=='red'or x=='blue' or x=='green':\n",
        "  print('Your favourite color is primary')\n",
        "else:\n",
        "  print('Your favourite color is not primary')"
      ],
      "metadata": {
        "colab": {
          "base_uri": "https://localhost:8080/"
        },
        "id": "eLIa6q3CijlM",
        "outputId": "6fc98bba-ddeb-436c-da4f-ac6814efaa50"
      },
      "execution_count": null,
      "outputs": [
        {
          "output_type": "stream",
          "name": "stdout",
          "text": [
            "Enter your color: green\n",
            "Your favourite color is primary\n"
          ]
        }
      ]
    },
    {
      "cell_type": "markdown",
      "source": [
        "expired or not"
      ],
      "metadata": {
        "id": "xV3vucwokDqo"
      }
    },
    {
      "cell_type": "code",
      "source": [
        "x=int(input('Enter Date: '))\n",
        "y=int(input('Enter Month: '))\n",
        "z=int(input('Enter Year: '))\n",
        "\n",
        "a=int(input('Enter Date: '))\n",
        "b=int(input('Enter Month: '))\n",
        "c=int(input('Enter Year: '))\n",
        "q=y+6\n",
        "if q>8:\n",
        "  print('Product fresh')\n",
        "elif q<8:\n",
        "  print('exp')\n"
      ],
      "metadata": {
        "colab": {
          "base_uri": "https://localhost:8080/"
        },
        "id": "Ne2KV8ogkK11",
        "outputId": "329d45ff-0bbf-4b53-e700-d869a0a6fd88"
      },
      "execution_count": null,
      "outputs": [
        {
          "output_type": "stream",
          "name": "stdout",
          "text": [
            "Enter Date: 12\n",
            "Enter Month: 09\n",
            "Enter Year: 2025\n",
            "Product fresh\n"
          ]
        }
      ]
    },
    {
      "cell_type": "code",
      "source": [
        "import datetime\n",
        "\n",
        "x =input(datetime.datetime)\n",
        "print(x)"
      ],
      "metadata": {
        "colab": {
          "base_uri": "https://localhost:8080/"
        },
        "id": "1tIf7u9PoHjX",
        "outputId": "08957a63-7e53-4a40-c4d9-b8db7c2d8c96"
      },
      "execution_count": null,
      "outputs": [
        {
          "output_type": "stream",
          "name": "stdout",
          "text": [
            "<class 'datetime.datetime'>22-02-2002\n",
            "22-02-2002\n"
          ]
        }
      ]
    },
    {
      "cell_type": "markdown",
      "source": [
        "Multivariable Assignment"
      ],
      "metadata": {
        "id": "WhC60lWp12Q8"
      }
    },
    {
      "cell_type": "code",
      "source": [
        "name,age,location='Guest',22,'Cochin'\n",
        "print(name)\n",
        "print(age)\n",
        "print(location)"
      ],
      "metadata": {
        "colab": {
          "base_uri": "https://localhost:8080/"
        },
        "id": "avEFlhP22W1t",
        "outputId": "fd1279aa-c00a-4510-fefd-b3dc036e7616"
      },
      "execution_count": null,
      "outputs": [
        {
          "output_type": "stream",
          "name": "stdout",
          "text": [
            "Guest\n",
            "22\n",
            "Cochin\n"
          ]
        }
      ]
    },
    {
      "cell_type": "markdown",
      "source": [],
      "metadata": {
        "id": "Kw6rm7Cy46V_"
      }
    },
    {
      "cell_type": "code",
      "source": [
        "print('Hello')\n",
        "print('Hi',end='_')\n",
        "print('Welcome')"
      ],
      "metadata": {
        "colab": {
          "base_uri": "https://localhost:8080/"
        },
        "id": "42YRCgvq48Xt",
        "outputId": "b413eafa-8068-4cc6-f190-b3379a88df10"
      },
      "execution_count": null,
      "outputs": [
        {
          "output_type": "stream",
          "name": "stdout",
          "text": [
            "Hello\n",
            "Hi_Welcome\n"
          ]
        }
      ]
    },
    {
      "cell_type": "markdown",
      "source": [
        "Conversion"
      ],
      "metadata": {
        "id": "3Kfa4EHy6g6Z"
      }
    },
    {
      "cell_type": "code",
      "source": [
        "#integer to string\n",
        "a=5\n",
        "b=str(a)\n",
        "print(b, type[b])\n",
        "\n",
        "#string to integer\n",
        "a='5'\n",
        "b=int(a)\n",
        "print(b, type[b])\n",
        "\n",
        "#integer to float\n",
        "a=5\n",
        "b=float(a)\n",
        "print(b,type[b])\n"
      ],
      "metadata": {
        "id": "YcvaCDwz6lBs"
      },
      "execution_count": null,
      "outputs": []
    },
    {
      "cell_type": "markdown",
      "source": [
        "String join"
      ],
      "metadata": {
        "id": "o3wBV6xz_gKy"
      }
    },
    {
      "cell_type": "code",
      "source": [
        " domain=['Data','Science']\n",
        " \"_\".join(domain)"
      ],
      "metadata": {
        "colab": {
          "base_uri": "https://localhost:8080/",
          "height": 36
        },
        "id": "HqBP0dfp_h7K",
        "outputId": "13803e6b-00f4-4aa0-f013-8a25ffe098e6"
      },
      "execution_count": null,
      "outputs": [
        {
          "output_type": "execute_result",
          "data": {
            "text/plain": [
              "'Data_Science'"
            ],
            "application/vnd.google.colaboratory.intrinsic+json": {
              "type": "string"
            }
          },
          "metadata": {},
          "execution_count": 95
        }
      ]
    },
    {
      "cell_type": "markdown",
      "source": [
        "list op"
      ],
      "metadata": {
        "id": "OeNPRxySAE2r"
      }
    },
    {
      "cell_type": "code",
      "source": [
        "x=[1,2,3]\n",
        "x.append(4)\n",
        "print(x)\n",
        "x.extend([5,6])\n",
        "x.remove(2)\n",
        "print(x)\n",
        "x.insert(0,10)\n",
        "print(x)\n",
        "x.reverse()\n",
        "print(x)\n",
        "x.sort()\n",
        "print(x)\n",
        "e=x.pop(0)\n",
        "print(e,x)\n",
        "x.clear()\n",
        "print(x)"
      ],
      "metadata": {
        "colab": {
          "base_uri": "https://localhost:8080/"
        },
        "id": "Qq3Dzg8xA41w",
        "outputId": "38fcc7f1-a60c-40ec-a6c4-1581b5f43f65"
      },
      "execution_count": null,
      "outputs": [
        {
          "output_type": "stream",
          "name": "stdout",
          "text": [
            "[1, 2, 3, 4]\n",
            "[1, 3, 4, 5, 6]\n",
            "[10, 1, 3, 4, 5, 6]\n",
            "[6, 5, 4, 3, 1, 10]\n",
            "[1, 3, 4, 5, 6, 10]\n",
            "1 [3, 4, 5, 6, 10]\n",
            "[]\n"
          ]
        }
      ]
    },
    {
      "cell_type": "markdown",
      "source": [
        "convert date format"
      ],
      "metadata": {
        "id": "_RFAjamSETJi"
      }
    },
    {
      "cell_type": "code",
      "source": [
        "x=int(input('Enter your date: '))\n"
      ],
      "metadata": {
        "id": "0K7WYax2EV6Y"
      },
      "execution_count": null,
      "outputs": []
    }
  ]
}