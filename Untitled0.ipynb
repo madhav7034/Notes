{
  "nbformat": 4,
  "nbformat_minor": 0,
  "metadata": {
    "colab": {
      "provenance": [],
      "authorship_tag": "ABX9TyNI4RuTWxFjvRGR88BJyzuE",
      "include_colab_link": true
    },
    "kernelspec": {
      "name": "python3",
      "display_name": "Python 3"
    },
    "language_info": {
      "name": "python"
    }
  },
  "cells": [
    {
      "cell_type": "markdown",
      "metadata": {
        "id": "view-in-github",
        "colab_type": "text"
      },
      "source": [
        "<a href=\"https://colab.research.google.com/github/madhav7034/Notes/blob/main/Untitled0.ipynb\" target=\"_parent\"><img src=\"https://colab.research.google.com/assets/colab-badge.svg\" alt=\"Open In Colab\"/></a>"
      ]
    },
    {
      "cell_type": "code",
      "source": [
        "movies={'The Batman':9,'Incendies':10,'Puli':2,'Big Brother':2,'Mamangam':3}\n",
        "print(movies)\n",
        "movies['Big Brother']=9\n",
        "print(movies)\n",
        "movies['Wanted']=9\n",
        "movies['Scary Movie']=10\n",
        "print(movies)\n",
        "Highest_Rating=0\n",
        "Highest_movie=''\n",
        "for k,v in movies.items():\n",
        "  if v > Highest_Rating:\n",
        "    Highest_Rating=v\n",
        "    Highest_movie=k\n",
        "print(f'The highest rated movie with a rating of {Highest_Rating} is {Highest_movie}')\n",
        "filtered_list={}\n",
        "for k,v in movies.items():\n",
        "  if v>5:\n",
        "    filtered_list[k]=v\n",
        "print(filtered_list)"
      ],
      "metadata": {
        "colab": {
          "base_uri": "https://localhost:8080/"
        },
        "id": "4oZ66smlT-7V",
        "outputId": "07c264bf-edbe-4901-98c5-0d1c314ff4bf"
      },
      "execution_count": null,
      "outputs": [
        {
          "output_type": "stream",
          "name": "stdout",
          "text": [
            "{'The Batman': 9, 'Incendies': 10, 'Puli': 2, 'Big Brother': 2, 'Mamangam': 3}\n",
            "{'The Batman': 9, 'Incendies': 10, 'Puli': 2, 'Big Brother': 9, 'Mamangam': 3}\n",
            "{'The Batman': 9, 'Incendies': 10, 'Puli': 2, 'Big Brother': 9, 'Mamangam': 3, 'Wanted': 9, 'Scary Movie': 10}\n",
            "The highest rated movie with a rating of 10 is Incendies\n",
            "{'The Batman': 9, 'Incendies': 10, 'Big Brother': 9, 'Wanted': 9, 'Scary Movie': 10}\n"
          ]
        }
      ]
    }
  ]
}